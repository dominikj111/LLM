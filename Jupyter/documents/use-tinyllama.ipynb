{
 "cells": [
  {
   "cell_type": "code",
   "execution_count": 1,
   "id": "71819e38-06eb-47f9-a614-6893c1aa2e0d",
   "metadata": {},
   "outputs": [],
   "source": [
    "# import os\n",
    "# os.environ['HF_DATASETS_OFFLINE'] = \"1\"\n",
    "# os.environ['HF_HUB_OFFLINE'] = \"1\""
   ]
  },
  {
   "cell_type": "code",
   "execution_count": 4,
   "id": "0346d66d-ac24-4060-bc74-4810dd45d07e",
   "metadata": {},
   "outputs": [
    {
     "name": "stderr",
     "output_type": "stream",
     "text": [
      "Merges were not in checkpoint, building merges on the fly.\n"
     ]
    },
    {
     "data": {
      "application/vnd.jupyter.widget-view+json": {
       "model_id": "ec553fede3494dc3bb3778958948a1ae",
       "version_major": 2,
       "version_minor": 0
      },
      "text/plain": [
       "  0%|          | 0/32003 [00:00<?, ?it/s]"
      ]
     },
     "metadata": {},
     "output_type": "display_data"
    },
    {
     "name": "stderr",
     "output_type": "stream",
     "text": [
      "Converting and de-quantizing GGUF tensors...: 100%|██████████| 201/201 [00:25<00:00,  7.85it/s]\n",
      "The attention mask and the pad token id were not set. As a consequence, you may observe unexpected behavior. Please pass your input's `attention_mask` to obtain reliable results.\n",
      "Setting `pad_token_id` to `eos_token_id`:2 for open-end generation.\n"
     ]
    },
    {
     "name": "stdout",
     "output_type": "stream",
     "text": [
      "Response from LLM:\n",
      "Explain the concept of machine learning in simple terms.\n",
      "Electronic engineering is the branch of engineering that deals with the design, construction, and maintenance of electronic devices, including computers, smartphones, and medical devices. The field of electrical engineering is a discipline of engineering that deals with the principles of electrical and electronic circuits, devices, and systems. It includes the study of electricity, magnetism, and thermodynamics.\n",
      "Electronic engineering is the branch of engineering that deals with the design, construction, and maintenance of electronic devices, including computers, smartphones, and medical devices. The field of electrical engineering is a discipline of engineering that deals with the principles of electrical and electronic circuits, devices, and systems. It includes the study of electricity, magnetism, and thermodynamics.\n",
      "The field of electrical engineering is a discipline of engineering that deals with the principles of elect\n"
     ]
    }
   ],
   "source": [
    "from transformers import AutoTokenizer, AutoModelForCausalLM\n",
    "\n",
    "model_id = \"/root/documents/assets/models\"\n",
    "gguf_file = \"/root/documents/assets/models/tinyllama-1.1b-chat-v0.3.Q2_K.gguf\"\n",
    "\n",
    "tokenizer = AutoTokenizer.from_pretrained(model_id, gguf_file=gguf_file)\n",
    "model = AutoModelForCausalLM.from_pretrained(model_id, gguf_file=gguf_file)\n",
    "\n",
    "# Set the input prompt\n",
    "prompt = \"Explain the concept of machine learning in simple terms.\"\n",
    "\n",
    "# Tokenize the input prompt\n",
    "input_ids = tokenizer(prompt, return_tensors=\"pt\").input_ids\n",
    "\n",
    "# Generate a response\n",
    "output_ids = model.generate(\n",
    "    input_ids,\n",
    "    max_length=200,          # Limit the output length\n",
    "    temperature=0.7,         # Sampling temperature (lower = more focused, higher = more diverse)\n",
    "    top_p=0.9,               # Top-p sampling for nucleus sampling\n",
    "    do_sample=True           # Enable sampling\n",
    ")\n",
    "\n",
    "# Decode the output tokens to text\n",
    "response = tokenizer.decode(output_ids[0], skip_special_tokens=True)\n",
    "\n",
    "# Print the response\n",
    "print(\"Response from LLM:\")\n",
    "print(response)\n"
   ]
  },
  {
   "cell_type": "code",
   "execution_count": 3,
   "id": "6dd27e83-e7a7-4986-a31f-b622c7030cac",
   "metadata": {},
   "outputs": [
    {
     "name": "stderr",
     "output_type": "stream",
     "text": [
      "The attention mask and the pad token id were not set. As a consequence, you may observe unexpected behavior. Please pass your input's `attention_mask` to obtain reliable results.\n",
      "Setting `pad_token_id` to `eos_token_id`:2 for open-end generation.\n",
      "The attention mask is not set and cannot be inferred from input because pad token is same as eos token. As a consequence, you may observe unexpected behavior. Please pass your input's `attention_mask` to obtain reliable results.\n"
     ]
    },
    {
     "name": "stdout",
     "output_type": "stream",
     "text": [
      "Response from LLM:\n",
      "Explain the concept of machine learning in simple terms. Machine Learning is a subfield of Artificial Intelligence that deals with the problem of computer systems learning from data without being explicitly programmed. The goal is to develop systems that can take data and use it to make predictions or decisions that are useful in some context. The process involves training the system on a large dataset of labeled examples, and then using that dataset to make predictions or decisions on new, unlabeled examples.\n",
      "Keras is a popular open-source library for machine learning, with a large and active community. The library is designed to work well with Python and provides a powerful, flexible, and efficient interface for building and training deep neural networks. Keras provides a large library of built-in models, including a variety of standard machine learning tasks, such as linear regression, classification, and clustering, as well as more specialized models such as generative models, models for multi-class\n"
     ]
    }
   ],
   "source": []
  },
  {
   "cell_type": "code",
   "execution_count": null,
   "id": "b889c259-0fc2-472c-ab4e-aeb3e114a548",
   "metadata": {},
   "outputs": [],
   "source": []
  }
 ],
 "metadata": {
  "kernelspec": {
   "display_name": "Python 3 (ipykernel)",
   "language": "python",
   "name": "python3"
  },
  "language_info": {
   "codemirror_mode": {
    "name": "ipython",
    "version": 3
   },
   "file_extension": ".py",
   "mimetype": "text/x-python",
   "name": "python",
   "nbconvert_exporter": "python",
   "pygments_lexer": "ipython3",
   "version": "3.12.2"
  }
 },
 "nbformat": 4,
 "nbformat_minor": 5
}
